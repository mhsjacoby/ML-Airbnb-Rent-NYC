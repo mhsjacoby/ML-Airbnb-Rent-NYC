{
 "cells": [
  {
   "cell_type": "code",
   "execution_count": 1,
   "metadata": {},
   "outputs": [
    {
     "data": {
      "text/plain": [
       "'en_US.UTF-8'"
      ]
     },
     "execution_count": 1,
     "metadata": {},
     "output_type": "execute_result"
    }
   ],
   "source": [
    "import matplotlib.pyplot as plt\n",
    "import numpy as np\n",
    "import pandas as pd\n",
    "import locale\n",
    "import os\n",
    "locale.setlocale( locale.LC_ALL, 'en_US.UTF-8' )"
   ]
  },
  {
   "cell_type": "code",
   "execution_count": 2,
   "metadata": {},
   "outputs": [],
   "source": [
    "#our handpicked initial columns that we want to look at\n",
    "\n",
    "\n",
    "desired_col=np.array(['id','neighbourhood_cleansed','neighbourhood_group_cleansed', 'property_type', 'room_type', 'accommodates','bathrooms', 'bedrooms', 'beds', 'bed_type', 'price','cleaning_fee', 'guests_included', 'extra_people', 'minimum_nights', 'availability_90','availability_365','review_scores_rating', 'review_scores_accuracy','review_scores_location', 'review_scores_value', 'calculated_host_listings_count', 'reviews_per_month', 'longitude', 'latitude'])\n"
   ]
  },
  {
   "cell_type": "code",
   "execution_count": 31,
   "metadata": {},
   "outputs": [],
   "source": [
    "#add in replace nan with 0 for cleaning fee \n",
    "def read_in_airbnb_file_pair(files, desired_col):\n",
    "    both_yrs = []\n",
    "    to_replace = {\"Brooklyn\" :\"Kings\", \"Manhattan\":\"New York\", \"Bedford-Stuyvesant\": \"Bedford Stuyvesant\", \"Chinatown\":\"Lower East Side\", \"Battery Park City\":\"Battery Park\", 'Ditmars Steinway' : 'Astoria','Downtown Brooklyn' : 'Brooklyn Heights','Hell\\'s Kitchen' : 'Midtown','Kips Bay' : 'Midtown', 'Ozone Park' : 'south ozone park','Prospect-Lefferts Gardens' : 'prospect lefferts gardens','South Slope' : 'park slope','Theater District' : 'midtown', 'Columbia St' : 'lower east side'}\n",
    "    for file in files:\n",
    "        yr = pd.read_csv('./Data/NYC_full_listings/'+file).replace(to_replace)\n",
    "        #print(yr.columns)\n",
    "        #print(list(set(yr[\"neighbourhood_cleansed\"])))\n",
    "        yr = yr.dropna(subset = ['id','neighbourhood_cleansed','bedrooms', 'accommodates','price', 'guests_included','extra_people', 'minimum_nights'])\n",
    "        if 'cleaning_fee' not in yr.columns:\n",
    "            yr['cleaning_fee'] = [\"$0.00\"]\n",
    "        yr = yr.fillna(value= {'cleaning_fee':'$0.00'})\n",
    "        yr = fix_columns(yr.loc[:, desired_col], desired_col)\n",
    "        yr = yr.loc[yr[\"room_type\"] == \"Entire home/apt\"]\n",
    "        both_yrs.append(yr)\n",
    "    return both_yrs[1], both_yrs[0]"
   ]
  },
  {
   "cell_type": "code",
   "execution_count": 37,
   "metadata": {},
   "outputs": [],
   "source": [
    "## Split airbnb files names by month/year\n",
    "\n",
    "airbnb_files = sorted(os.listdir('./Data/NYC_full_listings'))\n",
    "airbnb_files_all = airbnb_files.remove(\".DS_Store\")                                ###[MHSJ]\n",
    "airbnb_files_monthyear = []\n",
    "for i in range(len(airbnb_files)):\n",
    "    if airbnb_files[i] == \".DS_Store\" or airbnb_files[i] == \".ipynb_checkpoints\":  ###[MHSJ]\n",
    "        continue                                                                   ###[MHSJ]\n",
    "    year = int(airbnb_files[i].split('_')[0])\n",
    "    month = int(airbnb_files[i].split('_')[1][:-4])         \n",
    "    airbnb_files_monthyear.append((month, year))"
   ]
  },
  {
   "cell_type": "code",
   "execution_count": 38,
   "metadata": {},
   "outputs": [
    {
     "name": "stdout",
     "output_type": "stream",
     "text": [
      "27\n",
      "[('2015_01.csv', '2016_01.csv'), ('2015_05.csv', '2016_05.csv'), ('2015_06.csv', '2016_06.csv'), ('2015_08.csv', '2016_08.csv'), ('2015_09.csv', '2016_09.csv')]\n"
     ]
    }
   ],
   "source": [
    "#get airbnb date pairs for 1 year difference \n",
    "\n",
    "airbnb_files_datePairs = []\n",
    "for i,date in enumerate(airbnb_files_monthyear):\n",
    "    if (date[0], date[1]+1) in airbnb_files_monthyear:\n",
    "        index_next_yr = airbnb_files_monthyear.index((date[0], date[1]+1))\n",
    "        airbnb_files_datePairs.append((airbnb_files[i], airbnb_files[index_next_yr]))\n",
    "print(len(airbnb_files_datePairs))\n",
    "print(airbnb_files_datePairs[0:5])"
   ]
  },
  {
   "cell_type": "code",
   "execution_count": 39,
   "metadata": {},
   "outputs": [
    {
     "name": "stdout",
     "output_type": "stream",
     "text": [
      "35\n",
      "[('2015_03.csv', '2015_06.csv'), ('2015_05.csv', '2015_08.csv'), ('2015_06.csv', '2015_09.csv'), ('2015_08.csv', '2015_11.csv'), ('2015_09.csv', '2015_12.csv'), ('2015_10.csv', '2016_01.csv'), ('2015_11.csv', '2016_02.csv'), ('2016_01.csv', '2016_04.csv'), ('2016_02.csv', '2016_05.csv'), ('2016_04.csv', '2016_07.csv'), ('2016_05.csv', '2016_08.csv'), ('2016_06.csv', '2016_09.csv'), ('2016_07.csv', '2016_10.csv'), ('2016_08.csv', '2016_11.csv'), ('2016_09.csv', '2016_12.csv'), ('2016_10.csv', '2017_01.csv'), ('2016_11.csv', '2017_02.csv'), ('2016_12.csv', '2017_03.csv'), ('2017_01.csv', '2017_04.csv'), ('2017_02.csv', '2017_05.csv'), ('2017_03.csv', '2017_06.csv'), ('2017_04.csv', '2017_07.csv'), ('2017_05.csv', '2017_08.csv'), ('2017_07.csv', '2017_10.csv'), ('2017_08.csv', '2017_11.csv'), ('2017_10.csv', '2018_01.csv'), ('2017_11.csv', '2018_02.csv'), ('2017_12.csv', '2018_03.csv'), ('2018_01.csv', '2018_04.csv'), ('2018_02.csv', '2018_05.csv'), ('2018_03.csv', '2018_06.csv'), ('2018_04.csv', '2018_07.csv'), ('2018_05.csv', '2018_08.csv'), ('2018_06.csv', '2018_09.csv'), ('2018_07.csv', '2018_10.csv')]\n"
     ]
    }
   ],
   "source": [
    "###[mhsj] get airbnb date pairs for < 1 year difference \n",
    "\n",
    "def get_date_pairs(lag, files, monthyear_files):\n",
    "    airbnb_files_datePairs = []\n",
    "    for i,date in enumerate(monthyear_files):\n",
    "        if date[0]+lag > 12:\n",
    "            (M,Y) = ((date[0]+lag)%12, date[1]+1)\n",
    "        else:\n",
    "            (M,Y) = (date[0] + lag, date[1])\n",
    "        if (M,Y) in monthyear_files:\n",
    "            index_next_yr = monthyear_files.index((M,Y))\n",
    "            airbnb_files_datePairs.append((files[i], files[index_next_yr]))\n",
    "    return airbnb_files_datePairs\n",
    "\n",
    "lag_pairs = get_date_pairs(3, airbnb_files, airbnb_files_monthyear)\n",
    "print(len(lag_pairs))\n",
    "print(lag_pairs)"
   ]
  },
  {
   "cell_type": "code",
   "execution_count": 40,
   "metadata": {},
   "outputs": [],
   "source": [
    "def fix_columns(df, desired_col):\n",
    "    for col in desired_col:\n",
    "        #print(col)\n",
    "        df_col = df.loc[:, col]\n",
    "        if df_col.dtype == 'object':\n",
    "            if len(df_col) > 0:\n",
    "                #print(col, df_col.iloc[0])                     \n",
    "                if np.sum([x[:1] == \"$\" for x in df_col.iloc[:10]]) > 0:\n",
    "                    df_col = df_col.fillna('$0.00')\n",
    "                    new_col = [locale.atof(x[1:]) for x in df_col]\n",
    "                    df.loc[:,col] = new_col\n",
    "                elif df_col.iloc[0] == 'f' or df_col.iloc[0] == 't':\n",
    "                    new_col = [(x=='t') for x in df_col]\n",
    "                    df.loc[:,col] = new_col\n",
    "        if col == \"neighbourhood_cleansed\" or col == \"neighbourhood_group_cleansed\":\n",
    "            new_col = [str(x).lower() for x in df_col]\n",
    "            df.loc[:,col] = new_col\n",
    "    return df\n",
    "def fix_zillow_regionname_countyname(df):\n",
    "    for x in [\"RegionName\", \"CountyName\"]:\n",
    "        df_col = df.loc[:,x]\n",
    "        new_col = [str(x).lower() for x in df_col]\n",
    "        df.loc[:,x] = new_col\n",
    "    return df\n",
    "\n",
    "#goes through all zillow data and airbnb dataframe for date pair, finds neighborhoods (neighborhood + county pair)\n",
    "#that are in both data sets and counts how many listings for that neighborhood for each # bedrooms between 0 and 2\n",
    "#returns list with tuple, where tuple contains matching neighborhood/county sets and a list of bools per bedroom number checking if there are enough listings \n",
    "def find_common_neigh(zillow_df, airbnb_df_prev, airbnb_df_curr):\n",
    "    both_neighs = []\n",
    "    airbnb_set_prev = set([(x,y) for x,y in zip(airbnb_df_prev[\"neighbourhood_cleansed\"], airbnb_df_prev[\"neighbourhood_group_cleansed\"])])\n",
    "    airbnb_set_curr = set([(x,y) for x,y in zip(airbnb_df_curr[\"neighbourhood_cleansed\"], airbnb_df_curr[\"neighbourhood_group_cleansed\"])])\n",
    "    zillow_set = set([(x,y) for x,y in zip(zillow_df[\"RegionName\"],zillow_df[\"CountyName\"])])\n",
    "    for z, z_c in zillow_set:\n",
    "        for a, a_c in airbnb_set_curr:\n",
    "            if z.lower() == a.lower() and (z_c.lower() == a_c.lower() or a_c.lower() == 'nan'):\n",
    "                for a_p, a_p_c in airbnb_set_prev:\n",
    "                    if z.lower() == a_p.lower() and (z_c.lower() == a_p_c.lower() or a_p_c.lower() == 'nan'):\n",
    "                        enough_pts_prev = [len(airbnb_df_prev.loc[(airbnb_df_prev['bedrooms'] == x)&(airbnb_df_prev['neighbourhood_cleansed'] == a)])>30 for x in range(3)]\n",
    "                        enough_pts_curr = [len(airbnb_df_curr.loc[(airbnb_df_curr['bedrooms'] == x)&(airbnb_df_curr['neighbourhood_cleansed'] == a)])>30 for x in range(3)]\n",
    "                        enough_pts = [(x&y) for x,y in zip(enough_pts_prev,enough_pts_curr)]\n",
    "                        both_neighs.append((a.lower(), z_c.lower(), enough_pts))\n",
    "    return both_neighs\n",
    "\n",
    "def get_airbnb_county_from_lon_lat(df):\n",
    "    pass"
   ]
  },
  {
   "cell_type": "code",
   "execution_count": 41,
   "metadata": {},
   "outputs": [
    {
     "name": "stderr",
     "output_type": "stream",
     "text": [
      "/Users/Kurtio/anaconda3/lib/python3.7/site-packages/IPython/core/interactiveshell.py:2901: DtypeWarning: Columns (40,85) have mixed types. Specify dtype option on import or set low_memory=False.\n",
      "  if self.run_code(code, result):\n"
     ]
    },
    {
     "name": "stdout",
     "output_type": "stream",
     "text": [
      "{'staten island', 'new york', 'queens', 'bronx', 'kings'}\n",
      "{'Entire home/apt'}\n"
     ]
    }
   ],
   "source": [
    "yr,prev_yr = read_in_airbnb_file_pair(lag_pairs[7], desired_col)\n",
    "print(set(yr.loc[:,\"neighbourhood_group_cleansed\"]))\n",
    "\n",
    "print(set(yr.loc[:,\"room_type\"]))"
   ]
  },
  {
   "cell_type": "code",
   "execution_count": 222,
   "metadata": {},
   "outputs": [
    {
     "name": "stdout",
     "output_type": "stream",
     "text": [
      "74\n",
      "Index(['Unnamed: 0', '2010_02', '2010_03', '2010_04', '2010_05', '2010_06',\n",
      "       '2010_07', '2010_08', '2010_09', '2010_10',\n",
      "       ...\n",
      "       '2018_07', '2018_08', '2018_09', 'City', 'CountyName', 'Metro',\n",
      "       'bedrooms', 'RegionName', 'SizeRank', 'State'],\n",
      "      dtype='object', length=112)\n"
     ]
    }
   ],
   "source": [
    "zillow_files = pd.read_csv(\"Data/zillow_0_1_2_combined.csv\")\n",
    "zillow_files = fix_zillow_regionname_countyname(zillow_files)\n",
    "#test_neighs = find_common_neigh(zillow_files, prev_yr, yr)                ###[mhsj] uncomment\n",
    "test_neighs = find_common_neigh(zillow_files, all_years[1], all_years[2])  ###[mhsj] delete\n",
    "print(np.sum([np.sum(neigh[2]) for neigh in test_neighs]))\n",
    "zillow_columns = list(zillow_files.columns)\n",
    "zillow_columns_fix = {}\n",
    "for x in zillow_columns:\n",
    "    new_x = x.replace('-', '_').replace('NumBeds', 'bedrooms')\n",
    "    zillow_columns_fix[x] = new_x\n",
    "zillow_files = zillow_files.rename(columns = zillow_columns_fix)\n",
    "print(zillow_file\n",
    "    s.columns)\n"
   ]
  },
  {
   "cell_type": "code",
   "execution_count": 137,
   "metadata": {},
   "outputs": [],
   "source": [
    "desired_col_aggregate_quants =np.array(['beds', 'minimum_nights', 'availability_90','availability_365','review_scores_rating', 'review_scores_accuracy','review_scores_location', 'review_scores_value', 'calculated_host_listings_count', 'reviews_per_month'])\n",
    "\n",
    "\n"
   ]
  },
  {
   "cell_type": "code",
   "execution_count": 128,
   "metadata": {},
   "outputs": [],
   "source": [
    "def get_num_same_listings(prev_yr, yr):\n",
    "    pass\n",
    "def get_rel_increase_in_listings(prev_yr, yr):\n",
    "    pass\n",
    "def get_rel_increase_in_avg_feats(prev_yr,yr,feats):\n",
    "    pass\n",
    "def get_rel_increase_in_adjprice(prev_yr,yr):\n",
    "    pass\n",
    "\n",
    "def create_labeled_set_regression(date_pairs, zillow_files, desired_col, desired_col_aggregate_quants, num_months_predict):\n",
    "    all_pts = []\n",
    "    for pair in date_pairs:\n",
    "        prev_date = pair[0][:-4].split('_')\n",
    "        date = pair[1][:-4].split('_')\n",
    "        z_prev_date = [int(x) for x in prev_date]\n",
    "        z_prev_date = [z_prev_date[0]+int((z_prev_date[1]+2)/12),(z_prev_date[1]+2)%12 + 1]\n",
    "        z_date = [z_prev_date[0]+1, z_prev_date[1]]\n",
    "        date = str(z_date[0])+\"_\"+str(z_date[1]).zfill(2)\n",
    "        prev_date = str(z_prev_date[0])+\"_\"+str(z_prev_date[1]).zfill(2)\n",
    "        print(date)\n",
    "        if date in list(zillow_files.columns):\n",
    "            print('found')\n",
    "            yr, prev_yr = read_in_airbnb_file_pair(pair, zillow_files, desired_col)\n",
    "            both_neighs = find_common_neigh(zillow_files, prev_yr, yr)\n",
    "            for neigh in both_neighs:\n",
    "                for bedrooms, enough in enumerate(neigh[2]):\n",
    "                    if enough:\n",
    "                        zillow_files_bd_neigh = zillow_files.loc[(zillow_files[\"bedrooms\"]==bedrooms)&(zillow_files[\"RegionName\"]==neigh[0])&(zillow_files[\"CountyName\"]==neigh[1])]\n",
    "                        zillow_files_bd_neigh = zillow_files_bd_neigh.loc[:, [prev_date, date]]\n",
    "                        print(zillow_files_bd_neigh)\n",
    "                        if len(zillow_files_bd_neigh) > 0:\n",
    "                            enough_zillow_data = [x != 0 for x in zillow_files_bd_neigh.iloc[0]]\n",
    "                            print(enough_zillow_data)\n",
    "                            if np.sum(enough_zillow_data) >= 2:\n",
    "                                print(np.sum(enough_zillow_data))\n",
    "                                curr_features = [bedrooms]\n",
    "                                yr_bd_neigh = yr.loc[(yr['bedrooms'] == bedrooms)&(yr['neighbourhood_cleansed'] == neigh[0])&(yr['neighbourhood_group_cleansed'] == neigh[1])]\n",
    "                                prev_yr_bd_neigh = prev_yr.loc[(prev_yr['bedrooms'] == bedrooms)&(prev_yr['neighbourhood_cleansed'] == neigh[0])&(prev_yr['neighbourhood_group_cleansed'] == neigh[1])]\n",
    "\n",
    "\n",
    "\n"
   ]
  },
  {
   "cell_type": "code",
   "execution_count": 129,
   "metadata": {},
   "outputs": [
    {
     "ename": "TypeError",
     "evalue": "create_labeled_set_regression() missing 1 required positional argument: 'num_months_predict'",
     "output_type": "error",
     "traceback": [
      "\u001b[0;31m---------------------------------------------------------------------------\u001b[0m",
      "\u001b[0;31mTypeError\u001b[0m                                 Traceback (most recent call last)",
      "\u001b[0;32m<ipython-input-129-4ce180263a22>\u001b[0m in \u001b[0;36m<module>\u001b[0;34m()\u001b[0m\n\u001b[0;32m----> 1\u001b[0;31m \u001b[0mcreate_labeled_set_regression\u001b[0m\u001b[0;34m(\u001b[0m\u001b[0mairbnb_files_datePairs\u001b[0m\u001b[0;34m[\u001b[0m\u001b[0;34m-\u001b[0m\u001b[0;36m6\u001b[0m\u001b[0;34m:\u001b[0m\u001b[0;34m]\u001b[0m\u001b[0;34m,\u001b[0m\u001b[0mzillow_files\u001b[0m\u001b[0;34m,\u001b[0m\u001b[0mdesired_col\u001b[0m\u001b[0;34m,\u001b[0m\u001b[0mdesired_col_aggregate_quants\u001b[0m\u001b[0;34m)\u001b[0m\u001b[0;34m\u001b[0m\u001b[0m\n\u001b[0m",
      "\u001b[0;31mTypeError\u001b[0m: create_labeled_set_regression() missing 1 required positional argument: 'num_months_predict'"
     ]
    }
   ],
   "source": [
    "create_labeled_set_regression(airbnb_files_datePairs[-6:],zillow_files,desired_col,desired_col_aggregate_quants)"
   ]
  },
  {
   "cell_type": "code",
   "execution_count": null,
   "metadata": {},
   "outputs": [],
   "source": []
  },
  {
   "cell_type": "code",
   "execution_count": null,
   "metadata": {},
   "outputs": [],
   "source": []
  }
 ],
 "metadata": {
  "kernelspec": {
   "display_name": "Python 3",
   "language": "python",
   "name": "python3"
  },
  "language_info": {
   "codemirror_mode": {
    "name": "ipython",
    "version": 3
   },
   "file_extension": ".py",
   "mimetype": "text/x-python",
   "name": "python",
   "nbconvert_exporter": "python",
   "pygments_lexer": "ipython3",
   "version": "3.7.0"
  }
 },
 "nbformat": 4,
 "nbformat_minor": 2
}
