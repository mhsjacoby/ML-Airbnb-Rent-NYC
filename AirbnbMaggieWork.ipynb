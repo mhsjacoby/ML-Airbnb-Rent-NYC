{
 "cells": [
  {
   "cell_type": "code",
   "execution_count": 1,
   "metadata": {},
   "outputs": [],
   "source": [
    "import matplotlib.pyplot as plt\n",
    "import numpy as np\n",
    "import pandas as pd\n",
    "import locale\n",
    "import os\n",
    "locale.setlocale( locale.LC_ALL, 'en_US.UTF-8' )\n",
    "from sklearn.cluster import AgglomerativeClustering\n",
    "from sklearn.model_selection import train_test_split\n"
   ]
  },
  {
   "cell_type": "code",
   "execution_count": 17,
   "metadata": {},
   "outputs": [],
   "source": [
    "df = pd.read_csv('labeled_set_abnbLag12_zLag6_monPred6.csv')\n",
    "df = df.drop(['Unnamed: 0'],axis = 1)"
   ]
  },
  {
   "cell_type": "code",
   "execution_count": 18,
   "metadata": {},
   "outputs": [],
   "source": [
    "def convert_regression_ys_to_classes(y_vals, y_class_cutoffs, y_classes):\n",
    "    new_y_vals = []\n",
    "    for y in y_vals:\n",
    "        for i, c in enumerate(y_class_cutoffs):\n",
    "            if y < c:\n",
    "                new_y_vals.append(y_classes[i])\n",
    "                break \n",
    "    return new_y_vals"
   ]
  },
  {
   "cell_type": "code",
   "execution_count": 19,
   "metadata": {},
   "outputs": [
    {
     "name": "stdout",
     "output_type": "stream",
     "text": [
      "Train length:  1494\n",
      "Test length:  273\n"
     ]
    },
    {
     "data": {
      "text/plain": [
       "1767"
      ]
     },
     "execution_count": 19,
     "metadata": {},
     "output_type": "execute_result"
    }
   ],
   "source": [
    "z_lag = 6\n",
    "y_class_cutoffs = [0.03*z_lag/12, 1]\n",
    "y_classes = [0,1]\n",
    "dates = sorted(list(set(df.loc[:,'Months_Since_Jan_2010'])))\n",
    "test_date = dates[-3]\n",
    "test_set = df.loc[df['Months_Since_Jan_2010']>= test_date]\n",
    "train_set = df.loc[df['Months_Since_Jan_2010']< test_date]\n",
    "train_y = np.array(train_set.loc[:,'y'])\n",
    "train_x = np.array(train_set.drop(['y'],axis = 1))\n",
    "train_y = convert_regression_ys_to_classes(train_y, y_class_cutoffs, y_classes)\n",
    "test_y = np.array(test_set.loc[:,'y'])\n",
    "test_x = np.array(test_set.drop(['y'],axis = 1))\n",
    "test_y = convert_regression_ys_to_classes(test_y, y_class_cutoffs, y_classes)\n",
    "print(\"Train length: \", len(train_x))\n",
    "print(\"Test length: \", len(test_x))\n",
    "len(train_x)+len(test_x)\n"
   ]
  },
  {
   "cell_type": "code",
   "execution_count": 90,
   "metadata": {},
   "outputs": [],
   "source": [
    "#normalize features for use in clustering\n",
    "df_norm = pd.read_csv('labeled_set_abnbLag12_zLag6_monPred6.csv')\n",
    "df_norm = df_norm.drop(['Unnamed: 0'],axis = 1)\n",
    "\n",
    "\n",
    "z_lag = 6\n",
    "y_class_cutoffs = [0.03*z_lag/12, 1]\n",
    "y_classes = [0,1]\n",
    "\n",
    "full_y = np.array(df_norm.loc[:,'y'])\n",
    "full_y_class = convert_regression_ys_to_classes(full_y, y_class_cutoffs, y_classes)\n",
    "\n",
    "\n",
    "for col in df_norm.columns:\n",
    "    minC, maxC = min(df_norm.loc[:,col]), max(df_norm.loc[:,col])\n",
    "    normC = (df_norm.loc[:,col] - minC) / (maxC - minC)\n",
    "    df_norm.loc[:,col] = normC\n",
    "\n",
    "normalized_x = np.array(df_norm.drop(['Number_of_Bedrooms','Months_Since_Jan_2010', 'y'], axis = 1))"
   ]
  },
  {
   "cell_type": "code",
   "execution_count": 136,
   "metadata": {},
   "outputs": [
    {
     "name": "stdout",
     "output_type": "stream",
     "text": [
      "435 1332\n"
     ]
    }
   ],
   "source": [
    "H_cluster = AgglomerativeClustering(n_clusters = 2)\n",
    "y_cluster_label = H_cluster.fit_predict(normalized_x)\n",
    "#print(H_cluster.labels_)\n",
    "\n",
    "\n",
    "num_1 = np.count_nonzero(y_cluster_label)\n",
    "num_0 = len(y_cluster_label)-num_1\n",
    "\n",
    "print(num_1, num_0)"
   ]
  },
  {
   "cell_type": "code",
   "execution_count": 137,
   "metadata": {},
   "outputs": [
    {
     "data": {
      "image/png": "[encoded data removed]",
      "text/plain": [
       "<Figure size 432x288 with 1 Axes>"
      ]
     },
     "metadata": {
      "needs_background": "light"
     },
     "output_type": "display_data"
    },
    {
     "data": {
      "image/png": "[encoded data removed]",
      "text/plain": [
       "<Figure size 432x288 with 1 Axes>"
      ]
     },
     "metadata": {
      "needs_background": "light"
     },
     "output_type": "display_data"
    }
   ],
   "source": [
    "y_0 = [] #all points labeled 0 by the clustering algorithm\n",
    "y_1 = [] #all points labeled 1 by the clustering algorithm\n",
    "\n",
    "for y_norm, y_class in zip(y_cluster_label, full_y_class):\n",
    "    if y_norm == 0:\n",
    "        y_0.append(y_class)\n",
    "    else:\n",
    "        y_1.append(y_class)\n",
    "\n",
    "            \n",
    "plt.hist(y_0, bins=2)\n",
    "plt.show()\n",
    "plt.hist(y_1, bins = 2)\n",
    "plt.show()"
   ]
  },
  {
   "cell_type": "code",
   "execution_count": 13,
   "metadata": {},
   "outputs": [
    {
     "name": "stdout",
     "output_type": "stream",
     "text": [
      "Index(['Number_of_Bedrooms', 'Months_Since_Jan_2010',\n",
      "       'Relative_of_Listings_Consistent_Between_Years',\n",
      "       'Relative_Change_in_Number_of_Listings',\n",
      "       'Relative_Change_in_Median_Price', 'Relative_Change_in_Adjusted_Price',\n",
      "       'Relative_Change_in_Difference_Between_Listed_and_Adjusted_Price',\n",
      "       'Change_in_Fraction_of_Listings_with_Weekly_or_Monthly_Prices',\n",
      "       'Relative_Change_in_Fraction_of_Professional_Listings',\n",
      "       'Relative_Change_in_Average_Age_of_listings',\n",
      "       'Relative_Change_in_Mean_Description_Length',\n",
      "       'Relative_Change_in_Fraction_of_Hosts_that_are_Superhosts',\n",
      "       'minimum_nights', 'availability_30', 'availability_60',\n",
      "       'availability_90', 'availability_365', 'review_scores_rating',\n",
      "       'review_scores_accuracy', 'review_scores_cleanliness',\n",
      "       'review_scores_checkin', 'review_scores_communication',\n",
      "       'review_scores_location', 'review_scores_value',\n",
      "       'calculated_host_listings_count', 'number_of_reviews',\n",
      "       'reviews_per_month', 'y'],\n",
      "      dtype='object')\n",
      "27\n"
     ]
    }
   ],
   "source": [
    "print(df.columns)\n",
    "print(len(x[0]))"
   ]
  }
 ],
 "metadata": {
  "kernelspec": {
   "display_name": "Python 3",
   "language": "python",
   "name": "python3"
  },
  "language_info": {
   "codemirror_mode": {
    "name": "ipython",
    "version": 3
   },
   "file_extension": ".py",
   "mimetype": "text/x-python",
   "name": "python",
   "nbconvert_exporter": "python",
   "pygments_lexer": "ipython3",
   "version": "3.7.0"
  }
 },
 "nbformat": 4,
 "nbformat_minor": 2
}
