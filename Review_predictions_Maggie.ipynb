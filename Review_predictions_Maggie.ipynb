{
 "cells": [
  {
   "cell_type": "code",
   "execution_count": 1,
   "metadata": {},
   "outputs": [],
   "source": [
    "import matplotlib.pyplot as plt\n",
    "import numpy as np\n",
    "import pandas as pd\n",
    "import locale\n",
    "import os\n",
    "locale.setlocale( locale.LC_ALL, 'en_US.UTF-8' )\n",
    "from sklearn.cluster import AgglomerativeClustering\n",
    "from sklearn.model_selection import train_test_split\n"
   ]
  },
  {
   "cell_type": "code",
   "execution_count": 2,
   "metadata": {},
   "outputs": [],
   "source": [
    "df = pd.read_csv('pred_reviews_past12_pred12.csv')\n",
    "df = df.drop(['Unnamed: 0'],axis = 1)"
   ]
  },
  {
   "cell_type": "code",
   "execution_count": 24,
   "metadata": {},
   "outputs": [
    {
     "name": "stdout",
     "output_type": "stream",
     "text": [
      "Index(['mon_since_2010_01', 'neighs', 'bedrooms', 'rel_change_num_same_list',\n",
      "       'rel_change_tot_list', 'rel_change_in_price',\n",
      "       'rel_price_change_difference', 'current_price_night',\n",
      "       'curr_price_rel_median_neigh_price', 'adjusted_price',\n",
      "       'adj_price_rel_actual_price', 'rating', 'rating_rel', 'acc', 'acc_rel',\n",
      "       'clean', 'clean_rel', 'check_in', 'check_in_rel', 'comm', 'comm_rel',\n",
      "       'location', 'location_rel', 'value', 'value_rel', 'superhost',\n",
      "       'num_amen', 'internet', 'air_con', 'avail_30', 'avail_30_rel',\n",
      "       'avail_60', 'avail_60_rel', 'avail_90', 'avail_90_rel', 'avail_365',\n",
      "       'avail_365_rel', 'num_reviews_pastNmon', 'cur_revpermonth', 'len_descr',\n",
      "       'len_host_about', 'len_name', 'curr_min_nights', 'cleaning_fee',\n",
      "       'cleaning_fee_rel_price', 'mon_since_first_rev', 'strict_conc_pol',\n",
      "       'calc_host_list_count', 'y'],\n",
      "      dtype='object')\n"
     ]
    }
   ],
   "source": [
    "df_norm = pd.read_csv('pred_reviews_past12_pred12.csv')\n",
    "df_norm = df_norm.drop(['Unnamed: 0'],axis = 1)\n",
    "print(df_norm.columns)\n",
    "time_length = 12\n",
    "\n",
    "full_y = np.array(df_norm.loc[:,'y'])\n",
    "full_y = np.round(full_y / time_length)\n",
    "df_norm = df_norm.drop(['mon_since_2010_01','bedrooms','neighs' ,'y'], axis = 1)\n",
    "\n",
    "for col in df_norm.columns:\n",
    "    minC, maxC = min(df_norm.loc[:,col]), max(df_norm.loc[:,col])\n",
    "    normC = (df_norm.loc[:,col] - minC) / (maxC - minC)\n",
    "    df_norm.loc[:,col] = normC\n",
    "\n",
    "norm_x = np.array(df_norm)\n"
   ]
  },
  {
   "cell_type": "code",
   "execution_count": 23,
   "metadata": {},
   "outputs": [
    {
     "ename": "NameError",
     "evalue": "name 'df_norm' is not defined",
     "output_type": "error",
     "traceback": [
      "\u001b[0;31m---------------------------------------------------------------------------\u001b[0m",
      "\u001b[0;31mNameError\u001b[0m                                 Traceback (most recent call last)",
      "\u001b[0;32m<ipython-input-23-4123420f8f3a>\u001b[0m in \u001b[0;36m<module>\u001b[0;34m()\u001b[0m\n\u001b[0;32m----> 1\u001b[0;31m \u001b[0mprint\u001b[0m\u001b[0;34m(\u001b[0m\u001b[0mdf_norm\u001b[0m\u001b[0;34m.\u001b[0m\u001b[0mcolumns\u001b[0m\u001b[0;34m)\u001b[0m\u001b[0;34m\u001b[0m\u001b[0m\n\u001b[0m",
      "\u001b[0;31mNameError\u001b[0m: name 'df_norm' is not defined"
     ]
    }
   ],
   "source": [
    "print(df_norm.columns)"
   ]
  },
  {
   "cell_type": "code",
   "execution_count": 35,
   "metadata": {},
   "outputs": [],
   "source": [
    "## same as above but samples from the data\n",
    "sample_size = 25000\n",
    "\n",
    "df_sample = pd.read_csv('pred_reviews_past12_pred12.csv')\n",
    "df_sample = df_sample.drop(['Unnamed: 0'],axis = 1)\n",
    "\n",
    "df_sample = df_sample.sample(n = sample_size)\n",
    "time_length = 12\n",
    "\n",
    "full_y = np.array(df_sample.loc[:,'y'])\n",
    "full_y = np.round(full_y / time_length)\n",
    "df_sample = df_sample.drop(['mon_since_2010_01','bedrooms','neighs', 'current_price_night', 'adjusted_price', 'internet', 'superhost', 'air_con', 'strict_conc_pol', 'cleaning_fee' ,'y'], axis = 1)\n",
    "features_names = list(df_sample.columns)\n",
    "\n",
    "\n",
    "for col in df_sample.columns:\n",
    "    minC, maxC = min(df_sample.loc[:,col]), max(df_sample.loc[:,col])\n",
    "    normC = (df_sample.loc[:,col] - minC) / (maxC - minC)\n",
    "    df_sample.loc[:,col] = normC\n",
    "\n",
    "sample_x = np.array(df_sample)\n",
    "\n"
   ]
  },
  {
   "cell_type": "code",
   "execution_count": 26,
   "metadata": {},
   "outputs": [],
   "source": [
    "num_clusters = 5\n",
    "cluster = AgglomerativeClustering(n_clusters = num_clusters)\n",
    "labels = cluster.fit_predict(sample_x)"
   ]
  },
  {
   "cell_type": "code",
   "execution_count": 36,
   "metadata": {},
   "outputs": [
    {
     "name": "stdout",
     "output_type": "stream",
     "text": [
      "['rel_change_num_same_list', 'rel_change_tot_list', 'rel_change_in_price', 'rel_price_change_difference', 'curr_price_rel_median_neigh_price', 'adj_price_rel_actual_price', 'rating', 'rating_rel', 'acc', 'acc_rel', 'clean', 'clean_rel', 'check_in', 'check_in_rel', 'comm', 'comm_rel', 'location', 'location_rel', 'value', 'value_rel', 'num_amen', 'avail_30', 'avail_30_rel', 'avail_60', 'avail_60_rel', 'avail_90', 'avail_90_rel', 'avail_365', 'avail_365_rel', 'num_reviews_pastNmon', 'cur_revpermonth', 'len_descr', 'len_host_about', 'len_name', 'curr_min_nights', 'cleaning_fee_rel_price', 'mon_since_first_rev', 'calc_host_list_count']\n"
     ]
    }
   ],
   "source": [
    "print(features_names)"
   ]
  },
  {
   "cell_type": "code",
   "execution_count": 57,
   "metadata": {},
   "outputs": [],
   "source": [
    "y_clusters = [[],[],[],[],[]]\n",
    "x_clusters = [[],[],[],[],[]]\n",
    "\n",
    "\n",
    "for y_c, y_value, x_val in zip(labels, full_y, sample_x):\n",
    "    y_clusters[y_c].append(y_value)\n",
    "    x_clusters[y_c].append(x_val)\n",
    " "
   ]
  },
  {
   "cell_type": "code",
   "execution_count": 74,
   "metadata": {},
   "outputs": [
    {
     "name": "stdout",
     "output_type": "stream",
     "text": [
      "rel_change_num_same_list 0.005794003055717867\n",
      "rel_change_tot_list 0.009044789566642286\n",
      "rel_change_in_price 0.0\n",
      "rel_price_change_difference 0.0\n",
      "curr_price_rel_median_neigh_price 0.0\n",
      "adj_price_rel_actual_price 0.00029347151649309483\n",
      "rating 0.0\n",
      "rating_rel 0.0029034824353808553\n",
      "acc 0.0\n",
      "acc_rel 0.0006889171137851591\n",
      "clean 0.0\n",
      "clean_rel 0.007326892463382362\n",
      "check_in 0.0\n",
      "check_in_rel 0.0002032482171285821\n",
      "comm 0.0\n",
      "comm_rel 0.00038158222035744593\n",
      "location 0.0\n",
      "location_rel 0.0007567600093119076\n",
      "value 0.0\n",
      "value_rel 0.0009366361539122625\n",
      "num_amen 0.0\n",
      "avail_30 0.03333333333333333\n",
      "avail_30_rel 0.0027912756506302157\n",
      "avail_60 0.016666666666666663\n",
      "avail_60_rel 0.0028763214349702138\n",
      "avail_90 0.011111111111111127\n",
      "avail_90_rel 0.005855624242335156\n",
      "avail_365 0.05479452054794526\n",
      "avail_365_rel 0.013956061331464029\n",
      "num_reviews_pastNmon 0.0\n",
      "cur_revpermonth 0.0009541984732824443\n",
      "len_descr 0.0\n",
      "len_host_about 0.0025219007167507357\n",
      "len_name 0.0\n",
      "curr_min_nights 0.0\n",
      "cleaning_fee_rel_price 0.003320770519263036\n",
      "mon_since_first_rev 0.0044936597507465315\n",
      "calc_host_list_count 0.0\n"
     ]
    }
   ],
   "source": [
    "cluster_means = []\n",
    "for x in x_clusters:\n",
    "    all_means = []\n",
    "    for i in range(len(x[0])):\n",
    "        all_xi_vals = [z[i] for z in x]        \n",
    "        mean = np.median(all_xi_vals)\n",
    "        all_means.append(mean)\n",
    "    cluster_means.append(all_means)\n",
    "\n",
    "\n",
    "for i,feat in enumerate(features_names):\n",
    "    x = ([t[i] for t in cluster_means])\n",
    "    print(feat, max(x) - min(x))\n",
    "   # print(x)"
   ]
  },
  {
   "cell_type": "code",
   "execution_count": 63,
   "metadata": {},
   "outputs": [
    {
     "name": "stdout",
     "output_type": "stream",
     "text": [
      "38\n",
      "38\n"
     ]
    }
   ],
   "source": [
    "print(len(cluster_means[0]))\n",
    "print(len(features_names))"
   ]
  },
  {
   "cell_type": "markdown",
   "metadata": {},
   "source": [
    "report mean and std dev of y val for each cluster"
   ]
  },
  {
   "cell_type": "code",
   "execution_count": 32,
   "metadata": {},
   "outputs": [
    {
     "data": {
      "image/png": "[encoded data removed]",
      "text/plain": [
       "<Figure size 432x288 with 1 Axes>"
      ]
     },
     "metadata": {
      "needs_background": "light"
     },
     "output_type": "display_data"
    },
    {
     "data": {
      "image/png": "[encoded data removed]",
      "text/plain": [
       "<Figure size 432x288 with 1 Axes>"
      ]
     },
     "metadata": {
      "needs_background": "light"
     },
     "output_type": "display_data"
    },
    {
     "data": {
      "image/png": "[encoded data removed]",
      "text/plain": [
       "<Figure size 432x288 with 1 Axes>"
      ]
     },
     "metadata": {
      "needs_background": "light"
     },
     "output_type": "display_data"
    },
    {
     "data": {
      "image/png": "[encoded data removed]",
      "text/plain": [
       "<Figure size 432x288 with 1 Axes>"
      ]
     },
     "metadata": {
      "needs_background": "light"
     },
     "output_type": "display_data"
    },
    {
     "data": {
      "image/png": "[encoded data removed]",
      "text/plain": [
       "<Figure size 432x288 with 1 Axes>"
      ]
     },
     "metadata": {
      "needs_background": "light"
     },
     "output_type": "display_data"
    }
   ],
   "source": [
    "for c in y_clusters:\n",
    "    plt.hist(c, bins = 10)\n",
    "    plt.show()\n"
   ]
  },
  {
   "cell_type": "code",
   "execution_count": 7,
   "metadata": {},
   "outputs": [
    {
     "name": "stdout",
     "output_type": "stream",
     "text": [
      "500\n"
     ]
    }
   ],
   "source": [
    "print(len(sample_x))"
   ]
  }
 ],
 "metadata": {
  "kernelspec": {
   "display_name": "Python 3",
   "language": "python",
   "name": "python3"
  },
  "language_info": {
   "codemirror_mode": {
    "name": "ipython",
    "version": 3
   },
   "file_extension": ".py",
   "mimetype": "text/x-python",
   "name": "python",
   "nbconvert_exporter": "python",
   "pygments_lexer": "ipython3",
   "version": "3.7.0"
  }
 },
 "nbformat": 4,
 "nbformat_minor": 2
}
